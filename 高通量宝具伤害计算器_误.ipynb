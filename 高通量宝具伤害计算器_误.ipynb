{
 "cells": [
  {
   "cell_type": "markdown",
   "metadata": {},
   "source": [
    "# Python 简单的宝具 `高通量` 伤害计算器 (误)"
   ]
  },
  {
   "cell_type": "markdown",
   "metadata": {},
   "source": [
    "原文链接 [NGA 论坛](https://nga.178.com/read.php?tid=20289131) @惟江上之轻舟与舟上之清粥\n",
    "\n",
    "代码改自主楼"
   ]
  },
  {
   "cell_type": "code",
   "execution_count": 2,
   "metadata": {},
   "outputs": [],
   "source": [
    "import pandas as pd\n",
    "import numpy as np\n",
    "import ast\n",
    "import itertools\n",
    "\n",
    "# 输出 4 位有效数字，每行最多输出 150 字符\n",
    "np.set_printoptions(4, linewidth=150, suppress=True)"
   ]
  },
  {
   "cell_type": "markdown",
   "metadata": {},
   "source": [
    "## 数据与全局变量定义"
   ]
  },
  {
   "cell_type": "markdown",
   "metadata": {},
   "source": [
    "读入 xlsx 文件数据："
   ]
  },
  {
   "cell_type": "code",
   "execution_count": 2,
   "metadata": {},
   "outputs": [],
   "source": [
    "df_support = pd.read_excel('队友.xlsx', encoding='gbk')\n",
    "df_craft_essence = pd.read_excel('礼装.xlsx', encoding='gbk')\n",
    "df_mystic_code = pd.read_excel('衣服.xlsx', encoding='gbk')\n",
    "df_enemy = pd.read_excel('敌人.xlsx', encoding='gbk')\n",
    "df_noble_all = pd.read_excel('光炮从者.xlsx',encoding = 'gbk')\n",
    "df_class_relation = pd.read_excel('职阶克制表.xlsx',encoding = 'gbk')"
   ]
  },
  {
   "cell_type": "markdown",
   "metadata": {},
   "source": [
    "定义职阶克制关系 (根据文件 `职阶克制表.xlsx`)"
   ]
  },
  {
   "cell_type": "code",
   "execution_count": 3,
   "metadata": {},
   "outputs": [
    {
     "data": {
      "text/plain": [
       "{'S': array([1. , 0.5, 2. , 1. , 1. , 1. , 2. , 1. , 0.5, 1. , 1. , 1. , 1. , 1. , 1. , 1. ]),\n",
       " 'A': array([2. , 1. , 0.5, 1. , 1. , 1. , 2. , 1. , 0.5, 1. , 1. , 1. , 1. , 1. , 1. , 1. ]),\n",
       " 'L': array([0.5, 2. , 1. , 1. , 1. , 1. , 2. , 1. , 0.5, 1. , 1. , 1. , 1. , 1. , 1. , 1. ]),\n",
       " 'R': array([1. , 1. , 1. , 1. , 2. , 0.5, 2. , 1. , 0.5, 1. , 1. , 1. , 1. , 2. , 1. , 1. ]),\n",
       " 'C': array([1. , 1. , 1. , 0.5, 1. , 2. , 2. , 1. , 0.5, 1. , 1. , 1. , 1. , 2. , 1. , 1. ]),\n",
       " 'AS': array([1. , 1. , 1. , 2. , 0.5, 1. , 2. , 1. , 0.5, 1. , 1. , 1. , 1. , 2. , 1. , 1. ]),\n",
       " 'B': array([1.5, 1.5, 1.5, 1.5, 1.5, 1.5, 1.5, 1. , 1.5, 1.5, 1.5, 1.5, 0.5, 1.5, 1. , 1. ]),\n",
       " 'SH': array([1., 1., 1., 1., 1., 1., 1., 1., 1., 1., 1., 1., 1., 1., 1., 1.]),\n",
       " 'RU': array([1. , 1. , 1. , 1. , 1. , 1. , 2. , 1. , 1. , 0.5, 2. , 1. , 1. , 1. , 1. , 1. ]),\n",
       " 'AV': array([1. , 1. , 1. , 1. , 1. , 1. , 2. , 1. , 2. , 1. , 0.5, 1. , 1. , 1. , 1. , 1. ]),\n",
       " 'MC': array([1. , 1. , 1. , 1. , 1. , 1. , 2. , 1. , 0.5, 2. , 1. , 1. , 1. , 1. , 1. , 1.2]),\n",
       " 'AL': array([0.5, 0.5, 0.5, 1.5, 1.5, 1.5, 2. , 1. , 1. , 1. , 1. , 1. , 2. , 1. , 1. , 1.2]),\n",
       " 'F': array([1. , 1. , 1. , 1. , 1. , 1. , 2. , 1. , 1. , 1. , 1. , 0.5, 2. , 1. , 1. , 1. ]),\n",
       " 'B1': array([2. , 2. , 2. , 1. , 1. , 1. , 2. , 1. , 1. , 0.5, 1. , 1. , 1. , 1. , 1. , 1. ]),\n",
       " 'B2': array([1., 1., 1., 1., 1., 1., 1., 1., 1., 1., 1., 1., 1., 1., 1., 1.]),\n",
       " 'B3': array([1., 1., 1., 1., 1., 1., 1., 1., 1., 1., 1., 1., 1., 1., 1., 1.])}"
      ]
     },
     "execution_count": 3,
     "metadata": {},
     "output_type": "execute_result"
    }
   ],
   "source": [
    "# servant class relationship\n",
    "# CLASS_RELATION => row: attacker\n",
    "#                => col: defender\n",
    "CLASS_TYPE = np.asarray(df_class_relation.columns, dtype=str)\n",
    "CLASS_RELATION = {}\n",
    "for cls, relation in zip(CLASS_TYPE, np.asarray(df_class_relation)):\n",
    "    CLASS_RELATION[cls] = relation\n",
    "CLASS_RELATION"
   ]
  },
  {
   "cell_type": "markdown",
   "metadata": {},
   "source": [
    "定义天地人属性关系"
   ]
  },
  {
   "cell_type": "code",
   "execution_count": 4,
   "metadata": {
    "scrolled": true
   },
   "outputs": [
    {
     "data": {
      "text/plain": [
       "{'tian': array([1. , 1.1, 0.9, 1. , 1. ]),\n",
       " 'di': array([0.9, 1. , 1.1, 1. , 1. ]),\n",
       " 'ren': array([1.1, 0.9, 1. , 1. , 1. ]),\n",
       " 'xing': array([1. , 1. , 1. , 1. , 1.1]),\n",
       " 'shou': array([1. , 1. , 1. , 1.1, 1. ])}"
      ]
     },
     "execution_count": 4,
     "metadata": {},
     "output_type": "execute_result"
    }
   ],
   "source": [
    "# servant attribute relationship\n",
    "# ATTRIBUTE_RELATION => row: attacker\n",
    "#                    => col: defender\n",
    "ATTRIBUTE_TYPE = np.array(['tian', 'di', 'ren', 'xing', 'shou'])\n",
    "tmp = np.array([\n",
    "    [1.0, 1.1, 0.9, 1.0, 1.0],\n",
    "    [0.9, 1.0, 1.1, 1.0, 1.0],\n",
    "    [1.1, 0.9, 1.0, 1.0, 1.0],\n",
    "    [1.0, 1.0, 1.0, 1.0, 1.1],\n",
    "    [1.0, 1.0, 1.0, 1.1, 1.0],\n",
    "])\n",
    "ATTRIBUTE_RELATION = {}\n",
    "for attr, relation in zip(ATTRIBUTE_TYPE, tmp):\n",
    "    ATTRIBUTE_RELATION[attr] = relation\n",
    "ATTRIBUTE_RELATION"
   ]
  },
  {
   "cell_type": "markdown",
   "metadata": {},
   "source": [
    "定义从者与敌方属性 (根据文件 `光炮从者.xlsx` 与 `敌人.xlsx`)"
   ]
  },
  {
   "cell_type": "code",
   "execution_count": 5,
   "metadata": {
    "code_folding": []
   },
   "outputs": [
    {
     "data": {
      "text/plain": [
       "array(['人型', '从者', '天地从者', '恶', '猛兽', '男性', '神性', '骑乘', '魔性', '龙'], dtype='<U4')"
      ]
     },
     "execution_count": 5,
     "metadata": {},
     "output_type": "execute_result"
    }
   ],
   "source": [
    "# trait list\n",
    "# https://stackoverflow.com/questions/952914/how-to-make-a-flat-list-out-of-list-of-lists\n",
    "TRAIT_TYPE = np.unique(\n",
    "    list(itertools.chain.from_iterable([i.split(\"，\") for i in df_enemy[\"特性\"]])) + \\\n",
    "    list(itertools.chain.from_iterable([ast.literal_eval(i).keys() for i in df_noble_all['特攻'][df_noble_all['特攻'] != 0]])) + \\\n",
    "    list(itertools.chain.from_iterable([ast.literal_eval(i).keys() for i in df_noble_all['宝具特攻倍率'][df_noble_all['宝具特攻倍率'] != 1]]))\n",
    ")\n",
    "TRAIT_ONEHOT = {}\n",
    "for trait, onehot in zip(TRAIT_TYPE, np.eye(TRAIT_TYPE.size)):\n",
    "    TRAIT_ONEHOT[trait] = onehot\n",
    "TRAIT_TYPE"
   ]
  },
  {
   "cell_type": "markdown",
   "metadata": {},
   "source": [
    "定义色卡的 one-hot 变量"
   ]
  },
  {
   "cell_type": "code",
   "execution_count": 6,
   "metadata": {},
   "outputs": [],
   "source": [
    "# card color definition\n",
    "COLOR_ONEHOT = {\n",
    "    1: np.array([1, 0, 0]),\n",
    "    2: np.array([0, 1, 0]),\n",
    "    3: np.array([0, 0, 1]),\n",
    "}"
   ]
  },
  {
   "cell_type": "markdown",
   "metadata": {},
   "source": [
    "## 计算程序"
   ]
  },
  {
   "cell_type": "markdown",
   "metadata": {},
   "source": [
    "结果应当是用四维的特征表示：\n",
    "\n",
    "- 从者 (Servant)\n",
    "- 友军 (Support)\n",
    "- 礼装 (Craft Essence)\n",
    "- 御主服装 (Mystic Code)"
   ]
  },
  {
   "cell_type": "markdown",
   "metadata": {},
   "source": [
    "为了计算从者的输出，我们除了需要上述的数据之外，还需要敌方的数据。我们先建立敌方变量所属的类："
   ]
  },
  {
   "cell_type": "code",
   "execution_count": 7,
   "metadata": {},
   "outputs": [],
   "source": [
    "class Enemy:\n",
    "    def __init__(self, enemy_dict):\n",
    "        self.cls = enemy_dict[\"职阶\"]\n",
    "        self.attribute = enemy_dict[\"阵营\"]\n",
    "        self.trait = self.str_to_trait(enemy_dict[\"特性\"])\n",
    "    \n",
    "    @staticmethod\n",
    "    def str_to_trait(s):\n",
    "        trait_array = np.zeros(TRAIT_TYPE.size)\n",
    "        for trait in s.split(\"，\"):\n",
    "            trait_array += TRAIT_ONEHOT[trait]\n",
    "        return trait_array"
   ]
  },
  {
   "cell_type": "markdown",
   "metadata": {},
   "source": [
    "譬如以第三个敌人为例：\n",
    "\n",
    "- `cls` 敌方职阶，由于 `class` 在 python 中是保护词，因此取用单词缩写\n",
    "- `attribute` 敌方属性 (天地人)\n",
    "- `trait` 敌方特性，用 01 编码来表示 (但为了程序便利，没有采用布尔值)"
   ]
  },
  {
   "cell_type": "code",
   "execution_count": 8,
   "metadata": {},
   "outputs": [
    {
     "name": "stdout",
     "output_type": "stream",
     "text": [
      "S\n",
      "di\n",
      "[1. 0. 0. 0. 1. 1. 0. 0. 0. 0.]\n"
     ]
    }
   ],
   "source": [
    "enemy = Enemy(df_enemy.iloc[2])\n",
    "print(enemy.cls)\n",
    "print(enemy.attribute)\n",
    "print(enemy.trait)"
   ]
  },
  {
   "cell_type": "markdown",
   "metadata": {},
   "source": [
    "其等价的对应的信息是"
   ]
  },
  {
   "cell_type": "code",
   "execution_count": 9,
   "metadata": {
    "scrolled": true
   },
   "outputs": [
    {
     "data": {
      "text/plain": [
       "敌人          雅嘎\n",
       "职阶           S\n",
       "阵营          di\n",
       "特性    男性，人型，猛兽\n",
       "Name: 2, dtype: object"
      ]
     },
     "execution_count": 9,
     "metadata": {},
     "output_type": "execute_result"
    }
   ],
   "source": [
    "df_enemy.iloc[2]"
   ]
  },
  {
   "cell_type": "markdown",
   "metadata": {},
   "source": [
    "下面是一个相当大的类 `Noble_All`，用以储存从者、友军、礼装、御主服装的信息。其中，\n",
    "\n",
    "- `generate_trait_extra`\n",
    "    - 用于生成从者特攻和宝具特攻倍率的信息，不需要在外部使用\n",
    "- `calculate_damage`\n",
    "    - 输入变量 `enemy: Enemy`，一次性计算所有情况下对某敌方的伤害\n",
    "    - 输出为 4-dimension ndarray dtype=float32，维度信息是 (从者, 友军, 礼装, 御主服装)\n",
    "- `calculate_np` 一次性计算所有情况下从者所能达到的最大宝具值\n",
    "    - 输出为 4-dimension ndarray dtype=float32，维度信息是 (从者, 友军, 礼装, 御主服装)\n",
    "- `output`\n",
    "    - 给出满足一次性能充满 100% 宝具值，以及伤害大于 100,000 的宝具攻击情况\n",
    "    - 输入变量 `enemy: Enemy`，以及可选变量 `slic` 表示截取数据的范围 (但仍然计算所有可能的宝具伤害情况)\n",
    "    - 输出 pandas dataframe，并写入外部 xlsx 文件"
   ]
  },
  {
   "cell_type": "code",
   "execution_count": 10,
   "metadata": {},
   "outputs": [
    {
     "data": {
      "text/plain": [
       "<__main__.Noble_All at 0x1d52602ec88>"
      ]
     },
     "execution_count": 10,
     "metadata": {},
     "output_type": "execute_result"
    }
   ],
   "source": [
    "class Noble_All:\n",
    "    \n",
    "    def __init__(self):\n",
    "        self.df_support = df_support\n",
    "        self.df_craft_essence = df_craft_essence\n",
    "        self.df_mystic_code = df_mystic_code\n",
    "        self.df_enemy = df_enemy\n",
    "        self.df_noble_all = df_noble_all\n",
    "        self.df_class_relation = df_class_relation\n",
    "    \n",
    "        self.servant_name = np.asarray(self.df_noble_all[\"从者\"])\n",
    "        self.support_name = np.asarray(self.df_support[\"组合代号\"])\n",
    "        self.craft_name = np.asarray(self.df_craft_essence[\"礼装代号\"])\n",
    "        self.mystic_name = np.asarray(self.df_mystic_code[\"衣服代号\"])\n",
    "    \n",
    "        self.servant_atk = np.asarray(self.df_noble_all[\"ATK\"])\n",
    "        self.servant_base_ratio = np.asarray(self.df_noble_all[\"宝具倍率\"])\n",
    "        self.servant_color = np.array([COLOR_ONEHOT[color] for color in self.df_noble_all[\"宝具颜色\"]])\n",
    "        self.servant_card_ratio = np.asarray(self.df_noble_all[\"色卡倍率\"])\n",
    "        self.servant_color_powerup = np.asarray(self.df_noble_all[\"色卡性能\"])\n",
    "        self.servant_class_multiplier = np.asarray(self.df_noble_all[\"职阶\"])\n",
    "        self.servant_class_relation = np.array([CLASS_RELATION[cls] for cls in self.df_noble_all[\"职阶倍率\"]])\n",
    "        self.servant_attribute_relation = np.array([ATTRIBUTE_RELATION[attr] for attr in self.df_noble_all[\"阵营\"]])\n",
    "        self.servant_atk_powerup = np.asarray(self.df_noble_all[\"攻防\"])\n",
    "        self.servant_skill_extra = self.generate_trait_extra(\"特攻\", 0)          # base value is 0\n",
    "        self.servant_noble_powerup = np.asarray(self.df_noble_all[\"宝具buff\"])\n",
    "        self.servant_noble_extra = self.generate_trait_extra(\"宝具特攻倍率\", 1)  # base value is 1\n",
    "        self.servant_np = np.asarray(self.df_noble_all[\"np\"])\n",
    "        \n",
    "        self.support_atk_powerup = np.asarray(self.df_support[\"攻击力提升\"])\n",
    "        self.support_color_powerup = np.asarray(self.df_support[[1, 2, 3]])\n",
    "        self.support_noble_powerup = np.asarray(self.df_support[\"宝具威力提升\"])\n",
    "        self.support_atk_addition = np.asarray(self.df_support[\"伤害附加\"])\n",
    "        self.support_np = np.asarray(self.df_support[\"np\"])\n",
    "        \n",
    "        self.craft_atk = np.asarray(self.df_craft_essence[\"ATK\"])\n",
    "        self.craft_atk_powerup = np.asarray(self.df_craft_essence[\"攻击力提升\"])\n",
    "        self.craft_color_powerup = np.asarray(self.df_craft_essence[[1, 2, 3]])\n",
    "        self.craft_noble_powerup = np.asarray(self.df_craft_essence[\"宝具威力提升\"])\n",
    "        self.craft_np = np.asarray(self.df_craft_essence[\"np\"])\n",
    "        \n",
    "        self.mystic_atk_powerup = np.asarray(self.df_mystic_code[\"攻击力提升\"])\n",
    "        self.mystic_color_powerup = np.asarray(self.df_mystic_code[[1, 2, 3]])\n",
    "        self.mystic_noble_powerup = np.asarray(self.df_mystic_code[\"宝具威力提升\"])\n",
    "        self.mystic_np = np.asarray(self.df_mystic_code[\"np\"])\n",
    "    \n",
    "    def generate_trait_extra(self, key, basevalue):\n",
    "        servant_trait_extra = []\n",
    "        for val in self.df_noble_all[key]:\n",
    "            current_trait_extra = np.zeros(TRAIT_TYPE.size)\n",
    "            if val is not basevalue:\n",
    "                for trait, extra in ast.literal_eval(val).items():\n",
    "                    current_trait_extra += TRAIT_ONEHOT[trait] * (extra - basevalue)\n",
    "            servant_trait_extra += [current_trait_extra]\n",
    "        return np.array(servant_trait_extra)\n",
    "    \n",
    "    def calculate_damage(self, enemy):\n",
    "        # 函数编写的原则：其中类似于 [None, :, None, None] 一般都有以下原则，\n",
    "        #                 从者冒号放在第 0 位，友军第 1 位，礼装第 2 位，御主服装第 3 位\n",
    "        #                 色卡存在第 4 位表示色卡值，需要用 one-hot 的色卡向量作内积求和\n",
    "        return (\n",
    "            0.23   # 本身的倍数\n",
    "            * 0.9  # 随机情况中最背的情况\n",
    "            * (self.servant_atk[:, None, None, None] + self.craft_atk[None, None, :, None])  # 基础 ATK 与礼装 ATK 值\n",
    "            * self.servant_base_ratio[:, None, None, None]  # 宝具倍率\n",
    "            * self.servant_card_ratio[:, None, None, None]  # 色卡倍率\n",
    "            * (\n",
    "                + 1\n",
    "                + self.servant_color_powerup[:, None, None, None]     # 从者色卡性能提升\n",
    "                + (self.servant_color[:, None, None, None, :] * (\n",
    "                + self.support_color_powerup[None, :, None, None, :]  # 辅助色卡性能提升\n",
    "                + self.craft_color_powerup  [None, None, :, None, :]  # 礼装色卡性能提升\n",
    "                + self.mystic_color_powerup [None, None, None, :, :]  # 御主服色卡性能提升\n",
    "                )).sum(axis=-1)\n",
    "              )\n",
    "            * self.servant_class_multiplier[:, None, None, None]  # 从者职阶攻击力补正\n",
    "            * self.servant_class_relation[:, np.where(CLASS_TYPE == enemy.cls)[0][0]][:, None, None, None]  # 从者敌方职阶克制关系\n",
    "            * self.servant_attribute_relation[:, np.where(ATTRIBUTE_TYPE == enemy.attribute)[0][0]][:, None, None, None]  # 从者敌方属性 (天地人) 克制关系\n",
    "            * (\n",
    "                + 1\n",
    "                + self.servant_atk_powerup[:, None, None, None]  # 从者攻击力提升\n",
    "                + self.support_atk_powerup[None, :, None, None]  # 辅助攻击力提升\n",
    "                + self.craft_atk_powerup  [None, None, :, None]  # 礼装攻击力提升\n",
    "                + self.mystic_atk_powerup [None, None, None, :]  # 御主服攻击力提升\n",
    "              )\n",
    "            * (\n",
    "                + 1\n",
    "                + self.servant_noble_powerup[:, None, None, None]  # 从者宝具威力提升\n",
    "                + self.support_noble_powerup[None, :, None, None]  # 辅助宝具威力提升\n",
    "                + self.craft_noble_powerup  [None, None, :, None]  # 礼装宝具威力提升\n",
    "                + self.mystic_noble_powerup [None, None, None, :]  # 御主服宝具威力提升\n",
    "                + (enemy.trait * self.servant_skill_extra).sum(axis=-1)[:, None, None, None]  # 从者技能特攻\n",
    "              )\n",
    "            * (enemy.trait * self.servant_noble_extra + 1).prod(axis=1)[:, None, None, None]  # 从者宝具特攻\n",
    "            + self.support_atk_addition[None, :, None, None]  # 伤害固定值增加\n",
    "        )\n",
    "    \n",
    "    def calculate_np(self):\n",
    "        return (\n",
    "            + self.servant_np[:, None, None, None]\n",
    "            + self.support_np[None, :, None, None]\n",
    "            + self.craft_np  [None, None, :, None]\n",
    "            + self.mystic_np [None, None, None, :]\n",
    "        )\n",
    "    \n",
    "    def output(self, enemy, slic=(slice(None))):\n",
    "        damage = nob.calculate_damage(enemy)\n",
    "        mask = (nob.calculate_np() >= 1) * (damage > 100000)\n",
    "        arg_mask = np.array(np.where(mask[slic])).T\n",
    "        com = pd.DataFrame(arg_mask, dtype=object)\n",
    "        com[\"伤害\"] = damage[tuple(arg_mask.T)]\n",
    "        com.columns = (\"从者\", \"队友\", \"礼装\", \"衣服\", \"伤害\")\n",
    "        for idx in range(len(com)):\n",
    "            com.at[idx, \"从者\"] = nob.servant_name[com[\"从者\"][idx]]\n",
    "            com.at[idx, \"队友\"] = nob.support_name[com[\"队友\"][idx]]\n",
    "            com.at[idx, \"礼装\"] = nob.craft_name[com[\"礼装\"][idx]]\n",
    "            com.at[idx, \"衣服\"] = nob.mystic_name[com[\"衣服\"][idx]]\n",
    "        com    \n",
    "        com.to_excel('组合结果2.xlsx')\n",
    "        return com\n",
    "\n",
    "Noble_All()"
   ]
  },
  {
   "cell_type": "markdown",
   "metadata": {},
   "source": [
    "## 结果展示"
   ]
  },
  {
   "cell_type": "markdown",
   "metadata": {},
   "source": [
    "譬如对第一个敌人而言："
   ]
  },
  {
   "cell_type": "code",
   "execution_count": 11,
   "metadata": {},
   "outputs": [
    {
     "data": {
      "text/plain": [
       "敌人    飞龙\n",
       "职阶     R\n",
       "阵营    di\n",
       "特性     龙\n",
       "Name: 0, dtype: object"
      ]
     },
     "execution_count": 11,
     "metadata": {},
     "output_type": "execute_result"
    }
   ],
   "source": [
    "df_enemy.iloc[0]"
   ]
  },
  {
   "cell_type": "markdown",
   "metadata": {},
   "source": [
    "伤害表如下 (未排序) (第一次计算耗时较长，约 1.3 s，后面大约是 320 ms)："
   ]
  },
  {
   "cell_type": "code",
   "execution_count": 14,
   "metadata": {
    "scrolled": false
   },
   "outputs": [
    {
     "name": "stdout",
     "output_type": "stream",
     "text": [
      "Wall time: 327 ms\n"
     ]
    },
    {
     "data": {
      "text/html": [
       "<div>\n",
       "<style scoped>\n",
       "    .dataframe tbody tr th:only-of-type {\n",
       "        vertical-align: middle;\n",
       "    }\n",
       "\n",
       "    .dataframe tbody tr th {\n",
       "        vertical-align: top;\n",
       "    }\n",
       "\n",
       "    .dataframe thead th {\n",
       "        text-align: right;\n",
       "    }\n",
       "</style>\n",
       "<table border=\"1\" class=\"dataframe\">\n",
       "  <thead>\n",
       "    <tr style=\"text-align: right;\">\n",
       "      <th></th>\n",
       "      <th>从者</th>\n",
       "      <th>队友</th>\n",
       "      <th>礼装</th>\n",
       "      <th>衣服</th>\n",
       "      <th>伤害</th>\n",
       "    </tr>\n",
       "  </thead>\n",
       "  <tbody>\n",
       "    <tr>\n",
       "      <th>0</th>\n",
       "      <td>齐格飞</td>\n",
       "      <td>单孔明</td>\n",
       "      <td>醉贞</td>\n",
       "      <td>初始</td>\n",
       "      <td>101574.581919</td>\n",
       "    </tr>\n",
       "    <tr>\n",
       "      <th>1</th>\n",
       "      <td>齐格飞</td>\n",
       "      <td>单孔明</td>\n",
       "      <td>相扑</td>\n",
       "      <td>初始</td>\n",
       "      <td>101030.322081</td>\n",
       "    </tr>\n",
       "    <tr>\n",
       "      <th>2</th>\n",
       "      <td>齐格飞</td>\n",
       "      <td>单孔明</td>\n",
       "      <td>空骑</td>\n",
       "      <td>初始</td>\n",
       "      <td>105043.634649</td>\n",
       "    </tr>\n",
       "    <tr>\n",
       "      <th>3</th>\n",
       "      <td>齐格飞</td>\n",
       "      <td>单梅林</td>\n",
       "      <td>宝石</td>\n",
       "      <td>初始</td>\n",
       "      <td>107459.923430</td>\n",
       "    </tr>\n",
       "    <tr>\n",
       "      <th>4</th>\n",
       "      <td>齐格飞</td>\n",
       "      <td>单CBA</td>\n",
       "      <td>醉贞</td>\n",
       "      <td>初始</td>\n",
       "      <td>101074.581919</td>\n",
       "    </tr>\n",
       "    <tr>\n",
       "      <th>...</th>\n",
       "      <td>...</td>\n",
       "      <td>...</td>\n",
       "      <td>...</td>\n",
       "      <td>...</td>\n",
       "      <td>...</td>\n",
       "    </tr>\n",
       "    <tr>\n",
       "      <th>1104</th>\n",
       "      <td>R蛇神</td>\n",
       "      <td>明梅</td>\n",
       "      <td>空骑</td>\n",
       "      <td>新年</td>\n",
       "      <td>106893.837382</td>\n",
       "    </tr>\n",
       "    <tr>\n",
       "      <th>1105</th>\n",
       "      <td>R蛇神</td>\n",
       "      <td>明CBA</td>\n",
       "      <td>黑杯</td>\n",
       "      <td>初始</td>\n",
       "      <td>126440.186299</td>\n",
       "    </tr>\n",
       "    <tr>\n",
       "      <th>1106</th>\n",
       "      <td>R蛇神</td>\n",
       "      <td>明CBA</td>\n",
       "      <td>黑杯</td>\n",
       "      <td>换人</td>\n",
       "      <td>115348.941886</td>\n",
       "    </tr>\n",
       "    <tr>\n",
       "      <th>1107</th>\n",
       "      <td>R蛇神</td>\n",
       "      <td>明CBA</td>\n",
       "      <td>黑杯</td>\n",
       "      <td>极地</td>\n",
       "      <td>121301.243054</td>\n",
       "    </tr>\n",
       "    <tr>\n",
       "      <th>1108</th>\n",
       "      <td>R蛇神</td>\n",
       "      <td>明CBA</td>\n",
       "      <td>黑杯</td>\n",
       "      <td>新年</td>\n",
       "      <td>117906.089904</td>\n",
       "    </tr>\n",
       "  </tbody>\n",
       "</table>\n",
       "<p>1109 rows × 5 columns</p>\n",
       "</div>"
      ],
      "text/plain": [
       "       从者    队友  礼装  衣服             伤害\n",
       "0     齐格飞   单孔明  醉贞  初始  101574.581919\n",
       "1     齐格飞   单孔明  相扑  初始  101030.322081\n",
       "2     齐格飞   单孔明  空骑  初始  105043.634649\n",
       "3     齐格飞   单梅林  宝石  初始  107459.923430\n",
       "4     齐格飞  单CBA  醉贞  初始  101074.581919\n",
       "...   ...   ...  ..  ..            ...\n",
       "1104  R蛇神    明梅  空骑  新年  106893.837382\n",
       "1105  R蛇神  明CBA  黑杯  初始  126440.186299\n",
       "1106  R蛇神  明CBA  黑杯  换人  115348.941886\n",
       "1107  R蛇神  明CBA  黑杯  极地  121301.243054\n",
       "1108  R蛇神  明CBA  黑杯  新年  117906.089904\n",
       "\n",
       "[1109 rows x 5 columns]"
      ]
     },
     "execution_count": 14,
     "metadata": {},
     "output_type": "execute_result"
    }
   ],
   "source": [
    "%%time\n",
    "nob = Noble_All()\n",
    "enemy = Enemy(df_enemy.iloc[0])\n",
    "nob.output(enemy)"
   ]
  },
  {
   "cell_type": "markdown",
   "metadata": {},
   "source": [
    "如果对其中的结果进行截取 (单从者拐)，则一共有 113 个 hit 情况："
   ]
  },
  {
   "cell_type": "code",
   "execution_count": 15,
   "metadata": {},
   "outputs": [
    {
     "name": "stdout",
     "output_type": "stream",
     "text": [
      "Wall time: 63.8 ms\n"
     ]
    },
    {
     "data": {
      "text/html": [
       "<div>\n",
       "<style scoped>\n",
       "    .dataframe tbody tr th:only-of-type {\n",
       "        vertical-align: middle;\n",
       "    }\n",
       "\n",
       "    .dataframe tbody tr th {\n",
       "        vertical-align: top;\n",
       "    }\n",
       "\n",
       "    .dataframe thead th {\n",
       "        text-align: right;\n",
       "    }\n",
       "</style>\n",
       "<table border=\"1\" class=\"dataframe\">\n",
       "  <thead>\n",
       "    <tr style=\"text-align: right;\">\n",
       "      <th></th>\n",
       "      <th>从者</th>\n",
       "      <th>队友</th>\n",
       "      <th>礼装</th>\n",
       "      <th>衣服</th>\n",
       "      <th>伤害</th>\n",
       "    </tr>\n",
       "  </thead>\n",
       "  <tbody>\n",
       "    <tr>\n",
       "      <th>0</th>\n",
       "      <td>齐格飞</td>\n",
       "      <td>单孔明</td>\n",
       "      <td>醉贞</td>\n",
       "      <td>初始</td>\n",
       "      <td>101574.581919</td>\n",
       "    </tr>\n",
       "    <tr>\n",
       "      <th>1</th>\n",
       "      <td>齐格飞</td>\n",
       "      <td>单孔明</td>\n",
       "      <td>相扑</td>\n",
       "      <td>初始</td>\n",
       "      <td>101030.322081</td>\n",
       "    </tr>\n",
       "    <tr>\n",
       "      <th>2</th>\n",
       "      <td>齐格飞</td>\n",
       "      <td>单孔明</td>\n",
       "      <td>空骑</td>\n",
       "      <td>初始</td>\n",
       "      <td>105043.634649</td>\n",
       "    </tr>\n",
       "    <tr>\n",
       "      <th>3</th>\n",
       "      <td>齐格飞</td>\n",
       "      <td>单梅林</td>\n",
       "      <td>宝石</td>\n",
       "      <td>初始</td>\n",
       "      <td>107459.923430</td>\n",
       "    </tr>\n",
       "    <tr>\n",
       "      <th>4</th>\n",
       "      <td>齐格飞</td>\n",
       "      <td>单CBA</td>\n",
       "      <td>醉贞</td>\n",
       "      <td>初始</td>\n",
       "      <td>101074.581919</td>\n",
       "    </tr>\n",
       "    <tr>\n",
       "      <th>...</th>\n",
       "      <td>...</td>\n",
       "      <td>...</td>\n",
       "      <td>...</td>\n",
       "      <td>...</td>\n",
       "      <td>...</td>\n",
       "    </tr>\n",
       "    <tr>\n",
       "      <th>108</th>\n",
       "      <td>B喵</td>\n",
       "      <td>单CBA</td>\n",
       "      <td>空骑</td>\n",
       "      <td>初始</td>\n",
       "      <td>114713.984807</td>\n",
       "    </tr>\n",
       "    <tr>\n",
       "      <th>109</th>\n",
       "      <td>B喵</td>\n",
       "      <td>单CBA</td>\n",
       "      <td>空骑</td>\n",
       "      <td>换人</td>\n",
       "      <td>102638.828512</td>\n",
       "    </tr>\n",
       "    <tr>\n",
       "      <th>110</th>\n",
       "      <td>B喵</td>\n",
       "      <td>单CBA</td>\n",
       "      <td>空骑</td>\n",
       "      <td>泳装</td>\n",
       "      <td>100781.112158</td>\n",
       "    </tr>\n",
       "    <tr>\n",
       "      <th>111</th>\n",
       "      <td>B喵</td>\n",
       "      <td>单CBA</td>\n",
       "      <td>空骑</td>\n",
       "      <td>极地</td>\n",
       "      <td>112068.427837</td>\n",
       "    </tr>\n",
       "    <tr>\n",
       "      <th>112</th>\n",
       "      <td>B喵</td>\n",
       "      <td>单CBA</td>\n",
       "      <td>空骑</td>\n",
       "      <td>新年</td>\n",
       "      <td>111420.760363</td>\n",
       "    </tr>\n",
       "  </tbody>\n",
       "</table>\n",
       "<p>113 rows × 5 columns</p>\n",
       "</div>"
      ],
      "text/plain": [
       "      从者    队友  礼装  衣服             伤害\n",
       "0    齐格飞   单孔明  醉贞  初始  101574.581919\n",
       "1    齐格飞   单孔明  相扑  初始  101030.322081\n",
       "2    齐格飞   单孔明  空骑  初始  105043.634649\n",
       "3    齐格飞   单梅林  宝石  初始  107459.923430\n",
       "4    齐格飞  单CBA  醉贞  初始  101074.581919\n",
       "..   ...   ...  ..  ..            ...\n",
       "108   B喵  单CBA  空骑  初始  114713.984807\n",
       "109   B喵  单CBA  空骑  换人  102638.828512\n",
       "110   B喵  单CBA  空骑  泳装  100781.112158\n",
       "111   B喵  单CBA  空骑  极地  112068.427837\n",
       "112   B喵  单CBA  空骑  新年  111420.760363\n",
       "\n",
       "[113 rows x 5 columns]"
      ]
     },
     "execution_count": 15,
     "metadata": {},
     "output_type": "execute_result"
    }
   ],
   "source": [
    "%%time\n",
    "nob = Noble_All()\n",
    "enemy = Enemy(df_enemy.iloc[0])\n",
    "nob.output(enemy, slic=(slice(0, 51), slice(0, 3), slice(0, 7), slice(0, 7)))"
   ]
  }
 ],
 "metadata": {
  "kernelspec": {
   "display_name": "Python 3",
   "language": "python",
   "name": "python3"
  },
  "language_info": {
   "codemirror_mode": {
    "name": "ipython",
    "version": 3
   },
   "file_extension": ".py",
   "mimetype": "text/x-python",
   "name": "python",
   "nbconvert_exporter": "python",
   "pygments_lexer": "ipython3",
   "version": "3.7.4"
  },
  "toc": {
   "base_numbering": 1,
   "nav_menu": {},
   "number_sections": true,
   "sideBar": true,
   "skip_h1_title": false,
   "title_cell": "Table of Contents",
   "title_sidebar": "Contents",
   "toc_cell": false,
   "toc_position": {},
   "toc_section_display": true,
   "toc_window_display": false
  }
 },
 "nbformat": 4,
 "nbformat_minor": 4
}
